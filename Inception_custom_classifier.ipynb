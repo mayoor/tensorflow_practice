{
 "cells": [
  {
   "cell_type": "code",
   "execution_count": 1,
   "metadata": {
    "collapsed": true,
    "deletable": true,
    "editable": true
   },
   "outputs": [],
   "source": [
    "import tensorflow as tf\n",
    "slim  = tf.contrib.slim\n",
    "import matplotlib\n",
    "%matplotlib inline\n",
    "import matplotlib.pyplot as plt\n",
    "import numpy as np\n",
    "import re"
   ]
  },
  {
   "cell_type": "code",
   "execution_count": 2,
   "metadata": {
    "collapsed": true,
    "deletable": true,
    "editable": true
   },
   "outputs": [],
   "source": [
    "from nets import inception\n",
    "from preprocessing import inception_preprocessing\n",
    "import os\n",
    "from urllib.request import urlopen\n",
    "from datasets import imagenet\n",
    "from os import walk\n",
    "import os\n",
    "from collections import defaultdict\n",
    "import json"
   ]
  },
  {
   "cell_type": "code",
   "execution_count": 3,
   "metadata": {
    "collapsed": false,
    "deletable": true,
    "editable": true
   },
   "outputs": [
    {
     "name": "stdout",
     "output_type": "stream",
     "text": [
      "299\n"
     ]
    }
   ],
   "source": [
    "print (inception.inception_v4.default_image_size)\n",
    "image_size = inception.inception_v4.default_image_size\n",
    "checkpoints_dir = '/home/mayoor/dev/ml_tensor/inception'"
   ]
  },
  {
   "cell_type": "code",
   "execution_count": 4,
   "metadata": {
    "collapsed": true,
    "deletable": true,
    "editable": true
   },
   "outputs": [],
   "source": [
    "def convert_images(image_file):\n",
    "    image_string = open(image_file,'rb').read()\n",
    "    image = tf.image.decode_jpeg(image_string, channels=3)\n",
    "    processed_image = inception_preprocessing.preprocess_image(image, image_size, image_size, is_training=True)\n",
    "    processed_images  = tf.expand_dims(processed_image, 0)\n",
    "    return processed_images"
   ]
  },
  {
   "cell_type": "code",
   "execution_count": 5,
   "metadata": {
    "collapsed": true,
    "deletable": true,
    "editable": true
   },
   "outputs": [],
   "source": [
    "def convertToTFRecord(data, img_size, depth, label,name):\n",
    "    writer = tf.python_io.TFRecordWriter(name+'.tfrecords')\n",
    "    row_len = data.shape[0]\n",
    "    for i in range(row_len):\n",
    "        img = data[i]\n",
    "        example = tf.train.Example(features=tf.train.Features(feature={\n",
    "            'height': tf.train.Feature(int64_list=tf.train.Int64List(value=[img_size])),\n",
    "            'width': tf.train.Feature(int64_list=tf.train.Int64List(value=[img_size])),\n",
    "            'depth': tf.train.Feature(int64_list=tf.train.Int64List(value=[depth])),\n",
    "            'label': tf.train.Feature(int64_list=tf.train.Int64List(value=[int(label[i])])),\n",
    "            'image_raw': tf.train.Feature(bytes_list=tf.train.BytesList(value=[img]))}))\n",
    "        writer.write(example.SerializeToString())\n",
    "    writer.close()"
   ]
  },
  {
   "cell_type": "code",
   "execution_count": 6,
   "metadata": {
    "collapsed": true,
    "deletable": true,
    "editable": true
   },
   "outputs": [],
   "source": [
    "def getDataSet(root_folder):\n",
    "    data = defaultdict(list)\n",
    "    for (dirpath, dirnames, filenames) in walk(root_folder):\n",
    "        for image in filenames:\n",
    "            label = dirpath[dirpath.index('/')+1:]\n",
    "            image_file = os.path.join(dirpath,image)\n",
    "            data[label].append(image_file)\n",
    "    return data"
   ]
  },
  {
   "cell_type": "code",
   "execution_count": 7,
   "metadata": {
    "collapsed": true,
    "deletable": true,
    "editable": true
   },
   "outputs": [],
   "source": [
    "def prepareDataset(root_folder, destination):\n",
    "    data = getDataSet(root_folder)\n",
    "    final_data = None\n",
    "    labels = []\n",
    "    label_name = {}\n",
    "    reverse_label = {}\n",
    "    index = 0\n",
    "    for label in data:\n",
    "        image_files = data[label]\n",
    "        for image_file in image_files:\n",
    "            pi = convert_images(image_file)\n",
    "            if final_data != None:\n",
    "                final_data = np.hstack((final_data, pi))\n",
    "            else:\n",
    "                final_data = pi\n",
    "            labels.append(index)\n",
    "        label_name[index]=label\n",
    "        reverse_label[label] = index\n",
    "        index += 1\n",
    "    #convertToTFRecord(final_data, 299, 3, labels, destination)\n",
    "    return label_name, reverse_label"
   ]
  },
  {
   "cell_type": "code",
   "execution_count": 8,
   "metadata": {
    "collapsed": true,
    "deletable": true,
    "editable": true
   },
   "outputs": [],
   "source": [
    "def load_data(reader_queue):\n",
    "    label = reader_queue[1]\n",
    "    image_string = tf.read_file(reader_queue[0])\n",
    "    print (image_string)\n",
    "    print (label)\n",
    "    label_oh = tf.one_hot(label, depth=4)\n",
    "    image = tf.image.decode_image(image_string, channels=3)\n",
    "    processed_image = inception_preprocessing.preprocess_image(image, image_size, image_size, is_training=True)\n",
    "    processed_images  = tf.expand_dims(processed_image, 0)\n",
    "    \n",
    "    return tf.reshape(processed_images,[image_size,image_size,3]), label_oh"
   ]
  },
  {
   "cell_type": "code",
   "execution_count": 157,
   "metadata": {
    "collapsed": false,
    "deletable": true,
    "editable": true
   },
   "outputs": [
    {
     "name": "stdout",
     "output_type": "stream",
     "text": [
      "b'super_heros/batman/18.jpg'\n"
     ]
    }
   ],
   "source": [
    "with tf.Graph().as_default():\n",
    "    labels = json.loads(open('super_hero_meta.json','r').read())\n",
    "    reader_queue = tf.train.string_input_producer(getDataSet('super_heros')['batman'])\n",
    "    image, label = load_data(reader_queue, labels)\n",
    "    images, labels = tf.train.shuffle_batch(\n",
    "        [image, label],\n",
    "        batch_size=batch_size,\n",
    "        capacity=50000,\n",
    "        min_after_dequeue=10000)\n",
    "    with tf.Session() as sess:\n",
    "        coord = tf.train.Coordinator()\n",
    "        threads = tf.train.start_queue_runners(coord=coord)\n",
    "        val = sess.run(k)\n",
    "        print (val)\n",
    "        coord.request_stop()\n",
    "        coord.join(threads)"
   ]
  },
  {
   "cell_type": "code",
   "execution_count": 22,
   "metadata": {
    "collapsed": false,
    "deletable": true,
    "editable": true
   },
   "outputs": [
    {
     "name": "stderr",
     "output_type": "stream",
     "text": [
      "/usr/local/lib/python3.5/dist-packages/ipykernel/__main__.py:12: FutureWarning: comparison to `None` will result in an elementwise object comparison in the future.\n"
     ]
    },
    {
     "name": "stdout",
     "output_type": "stream",
     "text": [
      "{0: 'ironman', 1: 'superman', 2: 'spiderman', 3: 'batman'}\n"
     ]
    }
   ],
   "source": [
    "label_name, reverse_label = prepareDataset('test', 'super_heros_test')\n",
    "\n",
    "with open('super_hero_meta.json','w') as outf:\n",
    "    outf.write(json.dumps(label_name))\n",
    "with open('super_hero_meta_reverse.json','w') as outf:\n",
    "    outf.write(json.dumps(reverse_label))\n",
    "print (label_name)\n"
   ]
  },
  {
   "cell_type": "code",
   "execution_count": 11,
   "metadata": {
    "collapsed": true,
    "deletable": true,
    "editable": true
   },
   "outputs": [],
   "source": [
    "def getAllFiles(root_folder, reverse_label):\n",
    "    d = getDataSet(root_folder)\n",
    "    files = []\n",
    "    label_list = []\n",
    "    for lab in d:\n",
    "        files = files + d[lab]\n",
    "        for df in d[lab]:\n",
    "            label_list.append(reverse_label[lab])\n",
    "    return files, label_list"
   ]
  },
  {
   "cell_type": "code",
   "execution_count": 12,
   "metadata": {
    "collapsed": true,
    "deletable": true,
    "editable": true
   },
   "outputs": [],
   "source": [
    "def get_init_fn():\n",
    "    \"\"\"Returns a function run by the chief worker to warm-start the training.\"\"\"\n",
    "    checkpoint_exclude_scopes=[\"InceptionV4/Logits\", \"InceptionV4/AuxLogits\"]\n",
    "    \n",
    "    exclusions = [scope.strip() for scope in checkpoint_exclude_scopes]\n",
    "\n",
    "    variables_to_restore = []\n",
    "    for var in slim.get_model_variables():\n",
    "        excluded = False\n",
    "        for exclusion in exclusions:\n",
    "            if var.op.name.startswith(exclusion):\n",
    "                excluded = True\n",
    "                break\n",
    "        if not excluded:\n",
    "            variables_to_restore.append(var)\n",
    "\n",
    "    return slim.assign_from_checkpoint_fn(\n",
    "      os.path.join(checkpoints_dir, 'inception_v4.ckpt'),\n",
    "      variables_to_restore)\n"
   ]
  },
  {
   "cell_type": "code",
   "execution_count": 37,
   "metadata": {
    "collapsed": false,
    "deletable": true,
    "editable": true
   },
   "outputs": [
    {
     "name": "stdout",
     "output_type": "stream",
     "text": [
      "Tensor(\"ReadFile:0\", shape=(), dtype=string)\n",
      "Tensor(\"input_producer/Gather_1:0\", shape=(), dtype=int32)\n",
      "(10, 299, 299, 3)\n",
      "(10, 4)\n",
      "WARNING:tensorflow:From <ipython-input-37-31f885681a09>:28: softmax_cross_entropy (from tensorflow.contrib.losses.python.losses.loss_ops) is deprecated and will be removed after 2016-12-30.\n",
      "Instructions for updating:\n",
      "Use tf.losses.softmax_cross_entropy instead.\n",
      "WARNING:tensorflow:From /usr/local/lib/python3.5/dist-packages/tensorflow/contrib/losses/python/losses/loss_ops.py:394: compute_weighted_loss (from tensorflow.contrib.losses.python.losses.loss_ops) is deprecated and will be removed after 2016-12-30.\n",
      "Instructions for updating:\n",
      "Use tf.losses.compute_weighted_loss instead.\n",
      "WARNING:tensorflow:From /usr/local/lib/python3.5/dist-packages/tensorflow/contrib/losses/python/losses/loss_ops.py:151: add_loss (from tensorflow.contrib.losses.python.losses.loss_ops) is deprecated and will be removed after 2016-12-30.\n",
      "Instructions for updating:\n",
      "Use tf.losses.add_loss instead.\n",
      "WARNING:tensorflow:From <ipython-input-37-31f885681a09>:31: get_total_loss (from tensorflow.contrib.losses.python.losses.loss_ops) is deprecated and will be removed after 2016-12-30.\n",
      "Instructions for updating:\n",
      "Use tf.losses.get_total_loss instead.\n",
      "WARNING:tensorflow:From /usr/local/lib/python3.5/dist-packages/tensorflow/contrib/losses/python/losses/loss_ops.py:261: get_losses (from tensorflow.contrib.losses.python.losses.loss_ops) is deprecated and will be removed after 2016-12-30.\n",
      "Instructions for updating:\n",
      "Use tf.losses.get_losses instead.\n",
      "WARNING:tensorflow:From /usr/local/lib/python3.5/dist-packages/tensorflow/contrib/losses/python/losses/loss_ops.py:263: get_regularization_losses (from tensorflow.contrib.losses.python.losses.loss_ops) is deprecated and will be removed after 2016-12-30.\n",
      "Instructions for updating:\n",
      "Use tf.losses.get_regularization_losses instead.\n",
      "INFO:tensorflow:Starting Session.\n",
      "INFO:tensorflow:Starting Queues.\n",
      "INFO:tensorflow:global step 16: loss = 0.6957 (43.79 sec/step)\n",
      "INFO:tensorflow:global step 17: loss = 0.6965 (15.81 sec/step)\n",
      "INFO:tensorflow:global step 18: loss = 0.5309 (16.06 sec/step)\n",
      "INFO:tensorflow:global step 19: loss = 0.6982 (16.12 sec/step)\n",
      "INFO:tensorflow:global step 20: loss = 0.4860 (15.88 sec/step)\n",
      "INFO:tensorflow:Stopping Training.\n",
      "INFO:tensorflow:Finished training! Saving model to disk.\n"
     ]
    }
   ],
   "source": [
    "processed_images = tf.placeholder(tf.float32, shape=[None,image_size,image_size,3])\n",
    "batch_size = 10\n",
    "with tf.Graph().as_default():\n",
    "    labels = json.loads(open('super_hero_meta.json','r').read())\n",
    "    reverse_labels = json.loads(open('super_hero_meta_reverse.json','r').read())\n",
    "    #reader_queue = tf.train.string_input_producer(getAllFiles('super_heros'))\n",
    "    i, ls = getAllFiles('test', reverse_labels)\n",
    "    igs = tf.convert_to_tensor(i, dtype=tf.string)\n",
    "    lbs = tf.convert_to_tensor(ls, dtype=tf.int32)\n",
    "    reader_queue = tf.train.slice_input_producer([igs,lbs],\n",
    "                                            num_epochs=20,\n",
    "                                            shuffle=True)\n",
    "    image, label = load_data(reader_queue)\n",
    "    images, labels = tf.train.shuffle_batch(\n",
    "        [image, label],\n",
    "        batch_size=batch_size,\n",
    "        capacity=50000,\n",
    "        min_after_dequeue=10000)\n",
    "    print (images.get_shape())\n",
    "    with slim.arg_scope(inception.inception_v4_arg_scope()):\n",
    "        logits, _ = inception.inception_v4(images, num_classes=4, is_training=True)\n",
    "        #init_fn, init_dict = slim.assign_from_checkpoint(os.path.join(checkpoints_dir, 'inception_v4.ckpt'),\n",
    "        #slim.get_variables_to_restore(exclude=['InceptionV4/Logits\", \"InceptionV4/AuxLogits']))\n",
    "        #init_fn = get_init_fn()\n",
    "        #with tf.Session() as sess:\n",
    "        #    sess.run(init_fn, init_dict)\n",
    "    print (labels.get_shape())\n",
    "    loss = slim.losses.softmax_cross_entropy(logits, labels)\n",
    "    optimizer = tf.train.AdamOptimizer(1e-4)\n",
    "\n",
    "    total_loss = slim.losses.get_total_loss()\n",
    "    train_op = slim.learning.create_train_op(total_loss, optimizer)\n",
    "    logdir = 'incep_custom'\n",
    "    slim.learning.train(train_op,logdir,init_fn=get_init_fn(),number_of_steps=20,save_summaries_secs=100,save_interval_secs=600)"
   ]
  },
  {
   "cell_type": "code",
   "execution_count": 55,
   "metadata": {
    "collapsed": false,
    "deletable": true,
    "editable": true
   },
   "outputs": [
    {
     "name": "stdout",
     "output_type": "stream",
     "text": [
      "{'2': 'spiderman', '0': 'ironman', '3': 'batman', '1': 'superman'}\n",
      "(1, 299, 299, 3)\n"
     ]
    },
    {
     "data": {
      "image/png": "[encoded data removed]",
      "text/plain": [
       "<matplotlib.figure.Figure at 0x7f4da9a082e8>"
      ]
     },
     "metadata": {},
     "output_type": "display_data"
    },
    {
     "name": "stdout",
     "output_type": "stream",
     "text": [
      "Probability 99.65% => [superman]\n",
      "Probability 0.12% => [spiderman]\n",
      "Probability 0.12% => [ironman]\n"
     ]
    }
   ],
   "source": [
    "new_checkpoints_dir = '/home/mayoor/dev/ml_tensor/models/slim/incep_custom'\n",
    "names = json.loads(open('super_hero_meta.json','r').read())\n",
    "print (names)\n",
    "with tf.Graph().as_default():\n",
    "    #url = 'https://upload.wikimedia.org/wikipedia/commons/7/70/EnglishCockerSpaniel_simon.jpg'\n",
    "    url = 'https://upload.wikimedia.org/wikipedia/en/2/21/Web_of_Spider-Man_Vol_1_129-1.png'\n",
    "    url = 'https://upload.wikimedia.org/wikipedia/en/e/eb/SupermanRoss.png'\n",
    "    image_string = urlopen(url).read()\n",
    "    image = tf.image.decode_png(image_string, channels=3)\n",
    "    processed_image = inception_preprocessing.preprocess_image(image, image_size, image_size, is_training=False)\n",
    "    processed_images  = tf.expand_dims(processed_image, 0)\n",
    "    \n",
    "    print(processed_images.get_shape())\n",
    "    # Create the model, use the default arg scope to configure the batch norm parameters.\n",
    "    with slim.arg_scope(inception.inception_v4_arg_scope()):\n",
    "        logits, _ = inception.inception_v4(processed_images, num_classes=4, is_training=False)\n",
    "    probabilities = tf.nn.softmax(logits)\n",
    "    \n",
    "    #init_fn, init_dict = slim.assign_from_checkpoint(\n",
    "    #    os.path.join(checkpoints_dir, 'model.ckpt-20'),\n",
    "    #    slim.get_model_variables('InceptionV4'))\n",
    "\n",
    "    variables_to_restore = slim.get_model_variables()\n",
    "    init_assign_op, init_feed_dict = slim.assign_from_checkpoint('incep_custom/model.ckpt-20', variables_to_restore)\n",
    "        \n",
    "    with tf.Session() as sess:\n",
    "        sess.run(init_assign_op,init_feed_dict)\n",
    "        np_image, probabilities = sess.run([image, probabilities])\n",
    "        probabilities = probabilities[0, 0:]\n",
    "        sorted_inds = [i[0] for i in sorted(enumerate(-probabilities), key=lambda x:x[1])]\n",
    "        \n",
    "    plt.figure()\n",
    "    plt.imshow(np_image.astype(np.uint8))\n",
    "    plt.axis('off')\n",
    "    plt.show()\n",
    "\n",
    "    #names = imagenet.create_readable_names_for_imagenet_labels()\n",
    "    for i in range(3):\n",
    "        index = sorted_inds[i]\n",
    "        print('Probability %0.2f%% => [%s]' % (probabilities[index] * 100, names[str(index)]))"
   ]
  }
 ],
 "metadata": {
  "kernelspec": {
   "display_name": "Python 3",
   "language": "python",
   "name": "python3"
  },
  "language_info": {
   "codemirror_mode": {
    "name": "ipython",
    "version": 3
   },
   "file_extension": ".py",
   "mimetype": "text/x-python",
   "name": "python",
   "nbconvert_exporter": "python",
   "pygments_lexer": "ipython3",
   "version": "3.5.3"
  }
 },
 "nbformat": 4,
 "nbformat_minor": 2
}
