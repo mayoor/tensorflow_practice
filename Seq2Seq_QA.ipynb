{
 "cells": [
  {
   "cell_type": "markdown",
   "metadata": {},
   "source": [
    "# QA using Seq2Seq Model"
   ]
  },
  {
   "cell_type": "markdown",
   "metadata": {},
   "source": [
    "###### Inspired from - Searching for one"
   ]
  },
  {
   "cell_type": "code",
   "execution_count": 1,
   "metadata": {
    "collapsed": true
   },
   "outputs": [],
   "source": [
    "import tensorflow as tf\n",
    "from gensim.models import Word2Vec\n",
    "import csv\n",
    "from tensorflow.contrib import rnn\n",
    "import pandas as pd\n",
    "import numpy as np\n",
    "from tensorflow.python.layers.core import Dense"
   ]
  },
  {
   "cell_type": "code",
   "execution_count": 40,
   "metadata": {
    "collapsed": true
   },
   "outputs": [],
   "source": [
    "# Parameters\n",
    "learning_rate = 0.001\n",
    "training_iters = 200000\n",
    "batch_size = 15\n",
    "display_step = 10\n",
    "num_layers = 10\n",
    "\n",
    "# Network Parameters\n",
    "n_steps = 12 # size of the sentences. Greater than will be clipped, less than will be padded by zero vector\n",
    "answer_steps = 6\n",
    "n_hidden = 128 # hidden layer num of features\n",
    "vocab_size=100\n",
    "\n",
    "# tf Graph input\n",
    "#x = tf.placeholder(\"float\", [None, None, n_input])\n",
    "#y = tf.placeholder(\"float\", [None, n_classes])\n",
    "\n"
   ]
  },
  {
   "cell_type": "code",
   "execution_count": 3,
   "metadata": {
    "collapsed": true
   },
   "outputs": [],
   "source": [
    "def get_cells():\n",
    "    stacked_cells = []\n",
    "    for i in range(num_layers):\n",
    "        stacked_cells.append(tf.contrib.rnn.DropoutWrapper(rnn.GRUCell(n_hidden)))\n",
    "    cell = rnn.MultiRNNCell(stacked_cells)\n",
    "    return cell"
   ]
  },
  {
   "cell_type": "code",
   "execution_count": 85,
   "metadata": {},
   "outputs": [
    {
     "name": "stdout",
     "output_type": "stream",
     "text": [
      "[3, 6, 6, 6, 6, 6, 6, 6, 6, 6, 7, 7, 7, 7, 7, 7, 7, 7, 8, 8, 8, 9, 9, 9, 9, 9, 9, 9, 10, 10, 10, 10, 10, 10, 11, 11]\n",
      "Total vocab size is : 150\n",
      "Vector Size is 150\n"
     ]
    }
   ],
   "source": [
    "input_file = '/Users/mayoor/dev/qa/data/sample_cleaned.csv'\n",
    "\n",
    "special_words = ['<UNK>','<EOS>','<GO>','<PAD>']\n",
    "\n",
    "with open(input_file) as csv_file:\n",
    "    data = pd.read_csv(csv_file,delimiter=',')\n",
    "#print(data.head())\n",
    "required_data = data[['Question','Answer']]\n",
    "required_data.describe()\n",
    "req_data = required_data.drop_duplicates()\n",
    "question_list = req_data['Question'].tolist()\n",
    "sent_length = []\n",
    "sents = [s.strip().lower().split(' ') for s in question_list]\n",
    "answer_list = req_data['Answer'].tolist()\n",
    "ans = [s.strip().lower().split(' ') for s in answer_list]\n",
    "\n",
    "for s in sents:\n",
    "    sent_length.append(len(s))\n",
    "\n",
    "print (sorted(sent_length))\n",
    "consol_list = question_list + answer_list\n",
    "word_ind = {}\n",
    "for it in consol_list:\n",
    "    words = it.lower().split(' ')\n",
    "    for w in words:\n",
    "        if w not in word_ind:\n",
    "            word_ind[w]=len(word_ind)\n",
    "\n",
    "for d in special_words:\n",
    "    word_ind[d]=len(word_ind)\n",
    "    \n",
    "print ('Total vocab size is : %s' % len(word_ind))\n",
    "n_input = len(word_ind) #WordVector \n",
    "\n",
    "inverted_index = {}\n",
    "for k in word_ind:\n",
    "    inverted_index[word_ind[k]]=k\n",
    "\n",
    "#y_data = [[1,0] if p == 'positive' else [0,1] for p in sentiment_list]\n",
    "vector = Word2Vec(sents + ans + [[d] for d in special_words], size=100, iter=50, min_count=1)\n",
    "print ('Vector Size is %d' % len(vector.wv.vocab))\n",
    "padding_vector = np.zeros(100)"
   ]
  },
  {
   "cell_type": "code",
   "execution_count": 5,
   "metadata": {},
   "outputs": [
    {
     "data": {
      "text/plain": [
       "[('lincoln', 0.9906107783317566),\n",
       " ('the', 0.9902212619781494),\n",
       " ('did', 0.990150511264801),\n",
       " ('in', 0.9899835586547852),\n",
       " ('by', 0.989866316318512),\n",
       " ('rebellion', 0.989572286605835),\n",
       " ('of', 0.9895237684249878),\n",
       " ('and', 0.9894744157791138),\n",
       " ('led', 0.9893594980239868),\n",
       " ('that', 0.9891302585601807)]"
      ]
     },
     "execution_count": 5,
     "metadata": {},
     "output_type": "execute_result"
    }
   ],
   "source": [
    "vector.similar_by_word('antietam')"
   ]
  },
  {
   "cell_type": "code",
   "execution_count": 6,
   "metadata": {},
   "outputs": [
    {
     "name": "stdout",
     "output_type": "stream",
     "text": [
      "[[ 0.04407597  0.05686799  0.04348769 ...,  0.00313386  0.04321606\n",
      "   0.02507165]\n",
      " [ 0.01697349  0.02046946  0.00885339 ...,  0.0053508   0.00901733\n",
      "   0.00411669]\n",
      " [ 0.06637037  0.07851136  0.0585053  ...,  0.00499923  0.05207355\n",
      "   0.04243772]\n",
      " ..., \n",
      " [ 0.00070225 -0.00194354  0.00174642 ...,  0.00302336 -0.00367921\n",
      "  -0.00225345]\n",
      " [-0.00383884 -0.00479192  0.00487459 ..., -0.00045088  0.00294408\n",
      "  -0.00367758]\n",
      " [-0.00047537 -0.00471014  0.0048356  ...,  0.00405425 -0.00191541\n",
      "   0.00328755]]\n"
     ]
    }
   ],
   "source": [
    "#Construct Embedding matrix - numpy matrix\n",
    "vocab_size = len(vector.wv.vocab)\n",
    "embeddings = np.zeros((vocab_size,100), dtype=np.float32)\n",
    "for i in range(vocab_size):\n",
    "    embeddings[i] = vector[inverted_index[i]]\n",
    "\n",
    "print (embeddings)"
   ]
  },
  {
   "cell_type": "code",
   "execution_count": 7,
   "metadata": {
    "collapsed": true
   },
   "outputs": [],
   "source": [
    "#Convert sentences to numbers and pad\n",
    "def convert_tonum_pad(sentences, max_size):\n",
    "    converted_sents = []\n",
    "    for _s in sentences:\n",
    "        words = _s.lower().split(' ')\n",
    "        _s_num = [word_ind[w] for w in words]\n",
    "        if len(_s_num)<max_size:\n",
    "            _s_num = _s_num + [word_ind['<PAD>']]*(max_size-len(_s_num))\n",
    "        if len(_s_num)>max_size:\n",
    "            _s_num = _s_num[0:max_size]\n",
    "        converted_sents.append(_s_num)\n",
    "    return converted_sents\n"
   ]
  },
  {
   "cell_type": "code",
   "execution_count": 8,
   "metadata": {
    "collapsed": true
   },
   "outputs": [],
   "source": [
    "prepared_data_question = convert_tonum_pad(question_list, n_steps-1)\n",
    "prepared_data_answer = convert_tonum_pad(answer_list,answer_steps)\n"
   ]
  },
  {
   "cell_type": "code",
   "execution_count": 9,
   "metadata": {
    "collapsed": true
   },
   "outputs": [],
   "source": [
    "#add EOS to the question to indicate it is end of sentence.\n",
    "def append_eos_to_question(sentences):\n",
    "    eos_sent = []\n",
    "    for sent in sentences:\n",
    "        sent.append[word_ind['<EOS>']]\n",
    "        eos_sent.append(sent)\n",
    "    return eos_sent"
   ]
  },
  {
   "cell_type": "code",
   "execution_count": 10,
   "metadata": {
    "collapsed": true
   },
   "outputs": [],
   "source": [
    "def encoder(enc_input, batch_size):\n",
    "    encoder_cells = get_cells()\n",
    "    initial_state = encoder_cells.zero_state(batch_size, tf.float32)\n",
    "    #outputs, state = tf.contrib.rnn.static_rnn(\n",
    "    #    encoder_cells, enc_input, initial_state=initial_state)\n",
    "    outputs, state = tf.nn.dynamic_rnn(encoder_cells, enc_input, initial_state=initial_state, swap_memory=True)\n",
    "    return outputs, state"
   ]
  },
  {
   "cell_type": "code",
   "execution_count": 11,
   "metadata": {
    "collapsed": true
   },
   "outputs": [],
   "source": [
    "def decoder_training(dec_input, decoder_cell, initial_state, fc_layer, ans_length):\n",
    "    \n",
    "    helper = tf.contrib.seq2seq.TrainingHelper(inputs=dec_input, sequence_length=ans_length, time_major=False)\n",
    "    #print (dec_input.get_shape())\n",
    "    #print (decoder_cell.get_shape())\n",
    "    #print (initial_state.get_shape())\n",
    "    #print (ans_length.get_shape())\n",
    "    decoder = tf.contrib.seq2seq.BasicDecoder(decoder_cell,helper,initial_state,fc_layer)\n",
    "    training_logits, training_state, training_seq_len = tf.contrib.seq2seq.dynamic_decode(decoder, output_time_major=False,\n",
    "                                                           impute_finished=True,\n",
    "                                                           maximum_iterations=answer_steps)\n",
    "    return training_logits"
   ]
  },
  {
   "cell_type": "code",
   "execution_count": 12,
   "metadata": {
    "collapsed": true
   },
   "outputs": [],
   "source": [
    "def decoder_testing(decoder_cell, initial_state, embedding, start_token, end_token, batch_size, fc_layer):\n",
    "\n",
    "    start_tokens = tf.tile(tf.constant([start_token], dtype=tf.int32), [batch_size], name='start_tokens')\n",
    "    helper = tf.contrib.seq2seq.GreedyEmbeddingHelper(embedding, start_tokens, end_token)\n",
    "    decoder = tf.contrib.seq2seq.BasicDecoder(decoder_cell,helper,initial_state, fc_layer)\n",
    "    testing_logits, testing_state, testing_seq_len = tf.contrib.seq2seq.dynamic_decode(decoder, output_time_major=False,\n",
    "                                                           impute_finished=True,\n",
    "                                                           maximum_iterations=answer_steps)\n",
    "    return testing_logits"
   ]
  },
  {
   "cell_type": "code",
   "execution_count": 13,
   "metadata": {
    "collapsed": true
   },
   "outputs": [],
   "source": [
    "def build_decode_layer(enc_output, enc_state, dec_input, embeddings, batch_size, time_step, ans_length):\n",
    "    decoder_cell = get_cells()\n",
    "\n",
    "    attention = tf.contrib.seq2seq.BahdanauAttention(n_hidden, tf.concat(enc_output,1), time_step, normalize=False, name='BahdanauAttention')\n",
    "    #print (enc_output[0].get_shape(), len(enc_output))\n",
    "    decoder_cell = tf.contrib.seq2seq.AttentionWrapper(cell=decoder_cell, attention_mechanism=attention, attention_layer_size=n_hidden)\n",
    "    \n",
    "    #initial_state = tf.contrib.seq2seq.AttentionWrapperState(enc_state[0],\n",
    "    #                                                         decoder_cell, 12, None, None)#.zero_state( batch_size, \n",
    "                                                                                             # tf.float32)\n",
    "    initial_state = decoder_cell.zero_state( batch_size, tf.float32)\n",
    "    \n",
    "    initial_state = initial_state.clone(cell_state=enc_state)\n",
    "    print (initial_state)\n",
    "\n",
    "    fully_connected_output_layer = Dense(len(word_ind),\n",
    "                         kernel_initializer = tf.truncated_normal_initializer(mean = 0.0, stddev=0.1))\n",
    "    \n",
    "    with tf.variable_scope(\"decode\"):\n",
    "        training_logits = decoder_training(dec_input, \n",
    "                                            decoder_cell, \n",
    "                                            initial_state, \n",
    "                                            fully_connected_output_layer, ans_length)\n",
    "                                                   \n",
    "    with tf.variable_scope(\"decode\", reuse=True):\n",
    "        inference_logits = decoder_testing(decoder_cell, initial_state, \n",
    "                                            embeddings, \n",
    "                                            word_ind['<GO>'], \n",
    "                                            word_ind['<EOS>'],\n",
    "                                            batch_size,\n",
    "                                            fully_connected_output_layer)\n",
    "    return training_logits, inference_logits\n",
    "    "
   ]
  },
  {
   "cell_type": "code",
   "execution_count": 14,
   "metadata": {
    "collapsed": true
   },
   "outputs": [],
   "source": [
    "def qa_model(enc_input, dec_input, batch_size, embeddings, time_step, ans_length):\n",
    "    encoder_output, encode_state = encoder(enc_input, batch_size)\n",
    "    training_logits, inference_logits = build_decode_layer(encoder_output, encode_state, dec_input, embeddings, batch_size, time_step, ans_length)\n",
    "    \n",
    "    return training_logits, inference_logits\n",
    "    "
   ]
  },
  {
   "cell_type": "code",
   "execution_count": 15,
   "metadata": {},
   "outputs": [
    {
     "name": "stdout",
     "output_type": "stream",
     "text": [
      "AttentionWrapperState(cell_state=(<tf.Tensor 'rnn/while/Exit_2:0' shape=(15, 128) dtype=float32>, <tf.Tensor 'rnn/while/Exit_3:0' shape=(15, 128) dtype=float32>, <tf.Tensor 'rnn/while/Exit_4:0' shape=(15, 128) dtype=float32>, <tf.Tensor 'rnn/while/Exit_5:0' shape=(15, 128) dtype=float32>, <tf.Tensor 'rnn/while/Exit_6:0' shape=(15, 128) dtype=float32>, <tf.Tensor 'rnn/while/Exit_7:0' shape=(15, 128) dtype=float32>, <tf.Tensor 'rnn/while/Exit_8:0' shape=(15, 128) dtype=float32>, <tf.Tensor 'rnn/while/Exit_9:0' shape=(15, 128) dtype=float32>, <tf.Tensor 'rnn/while/Exit_10:0' shape=(15, 128) dtype=float32>, <tf.Tensor 'rnn/while/Exit_11:0' shape=(15, 128) dtype=float32>), attention=<tf.Tensor 'AttentionWrapperZeroState/zeros_1:0' shape=(15, 128) dtype=float32>, time=<tf.Tensor 'AttentionWrapperZeroState/zeros:0' shape=() dtype=int32>, alignments=<tf.Tensor 'AttentionWrapperZeroState/zeros_2:0' shape=(15, 12) dtype=float32>, alignment_history=())\n",
      "Graph is built.\n"
     ]
    }
   ],
   "source": [
    "train_graph = tf.Graph()\n",
    "\n",
    "with train_graph.as_default():\n",
    "    encoder_input = tf.placeholder(shape=(None,n_steps,100),dtype=tf.float32, name=\"encode_input\")\n",
    "    decoder_input = tf.placeholder(shape=(None,answer_steps,100),dtype=tf.float32, name=\"decode_input\")\n",
    "    target = tf.placeholder(shape=(None,None),dtype=tf.int32, name=\"target\")\n",
    "    time_step = tf.placeholder(tf.int32, (None,), name='time_step')\n",
    "    ans_length = tf.placeholder(tf.int32, (None,), name='ans_length')\n",
    "    \n",
    "    #e_inp = tf.unstack(encoder_input, n_steps, axis=1)\n",
    "    #d_inp = tf.unstack(decoder_input, answer_steps, 1)\n",
    "\n",
    "    training_logits, inference_logits = qa_model(encoder_input, decoder_input, batch_size, embeddings, time_step, ans_length)#(x, weights, biases)\n",
    "\n",
    "    training_logits = tf.identity(training_logits.rnn_output, 'logits')\n",
    "    inference_logits = tf.identity(inference_logits.sample_id, name='predictions')\n",
    "    \n",
    "    # Create the weights for sequence_loss\n",
    "    masks = tf.sequence_mask(ans_length, answer_steps, dtype=tf.float32, name='masks')\n",
    "\n",
    "    with tf.name_scope(\"optimization\"):\n",
    "        # Loss function\n",
    "        cost = tf.contrib.seq2seq.sequence_loss(\n",
    "            training_logits,\n",
    "            target,\n",
    "            masks)\n",
    "\n",
    "        # Optimizer\n",
    "        optimizer = tf.train.AdamOptimizer(learning_rate)\n",
    "\n",
    "        # Gradient Clipping\n",
    "        gradients = optimizer.compute_gradients(cost)\n",
    "        capped_gradients = [(tf.clip_by_value(grad, -5., 5.), var) for grad, var in gradients if grad is not None]\n",
    "        train_op = optimizer.apply_gradients(capped_gradients)\n",
    "print(\"Graph is built.\")"
   ]
  },
  {
   "cell_type": "code",
   "execution_count": 16,
   "metadata": {
    "collapsed": true
   },
   "outputs": [],
   "source": [
    "def get_next_batch(batch_size):\n",
    "    max_data = len(question_list)\n",
    "    indexes = np.random.randint(max_data, size=batch_size)\n",
    "    sentence_batch = [prepared_data_question[ix] for ix in list(indexes)]\n",
    "    y_batch = [prepared_data_answer[iy] for iy in list(indexes)]\n",
    "    \n",
    "    return np.asarray(sentence_batch), np.asarray(y_batch)\n"
   ]
  },
  {
   "cell_type": "code",
   "execution_count": 23,
   "metadata": {
    "collapsed": true
   },
   "outputs": [],
   "source": [
    "def convert_sent_to_vec(sentences, eos=False):\n",
    "    vec_sentences = []\n",
    "    for sent in sentences:\n",
    "        if eos == True:\n",
    "            st = list(sent)\n",
    "            st.append(word_ind['<EOS>'])\n",
    "        else:\n",
    "            st = sent\n",
    "        vec_sentences.append([embeddings[s] for s in st])\n",
    "    return np.asarray(vec_sentences)\n",
    "    "
   ]
  },
  {
   "cell_type": "code",
   "execution_count": 26,
   "metadata": {},
   "outputs": [
    {
     "name": "stdout",
     "output_type": "stream",
     "text": [
      "(10, 12, 100)\n",
      "(10, 6, 100)\n"
     ]
    }
   ],
   "source": [
    "test_x, test_y = get_next_batch(10)\n",
    "x = convert_sent_to_vec(test_x,True)\n",
    "y = convert_sent_to_vec(test_y)\n",
    "print (x.shape)\n",
    "print (y.shape)"
   ]
  },
  {
   "cell_type": "code",
   "execution_count": 82,
   "metadata": {
    "collapsed": true
   },
   "outputs": [],
   "source": [
    "def process_dec_input(target, batch_size):\n",
    "    begin_token = np.tile(np.array(word_ind['<GO>']),batch_size).reshape(batch_size,1)\n",
    "    z = np.delete(target,target.shape[1]-1,1)\n",
    "    return np.hstack((begin_token,z))\n",
    "    "
   ]
  },
  {
   "cell_type": "code",
   "execution_count": 83,
   "metadata": {},
   "outputs": [
    {
     "name": "stdout",
     "output_type": "stream",
     "text": [
      "(10, 6)\n",
      "[[148 110 111 112 149 149]\n",
      " [148 104 149 149 149 149]\n",
      " [148 141 142 143 144 145]\n",
      " [148  84  85 149 149 149]\n",
      " [148 113 149 149 149 149]\n",
      " [148 104 149 149 149 149]\n",
      " [148 104 149 149 149 149]\n",
      " [148 114  62 149 149 149]\n",
      " [148   3   7   8 106   3]\n",
      " [148  54 149 149 149 149]]\n"
     ]
    }
   ],
   "source": [
    "test_x, test_y = get_next_batch(10)\n",
    "print (test_y.shape)\n",
    "new_y = process_dec_input(test_y, 10)\n",
    "print (new_y)"
   ]
  },
  {
   "cell_type": "code",
   "execution_count": 86,
   "metadata": {},
   "outputs": [
    {
     "name": "stdout",
     "output_type": "stream",
     "text": [
      "Iter 150, Minibatch Loss= 2.605524, Training Accuracy= 2.60552\n",
      "Iter 300, Minibatch Loss= 1.717576, Training Accuracy= 1.71758\n",
      "Iter 450, Minibatch Loss= 1.411055, Training Accuracy= 1.41106\n",
      "Iter 600, Minibatch Loss= 1.325067, Training Accuracy= 1.32507\n",
      "Iter 750, Minibatch Loss= 1.916545, Training Accuracy= 1.91654\n",
      "Iter 900, Minibatch Loss= 1.495909, Training Accuracy= 1.49591\n",
      "Iter 1050, Minibatch Loss= 1.646598, Training Accuracy= 1.64660\n",
      "Iter 1200, Minibatch Loss= 1.406796, Training Accuracy= 1.40680\n",
      "Iter 1350, Minibatch Loss= 0.789078, Training Accuracy= 0.78908\n",
      "Iter 1500, Minibatch Loss= 1.578618, Training Accuracy= 1.57862\n",
      "Iter 1650, Minibatch Loss= 1.013793, Training Accuracy= 1.01379\n",
      "Iter 1800, Minibatch Loss= 1.165276, Training Accuracy= 1.16528\n",
      "Iter 1950, Minibatch Loss= 1.143929, Training Accuracy= 1.14393\n",
      "Iter 2100, Minibatch Loss= 1.186432, Training Accuracy= 1.18643\n",
      "Iter 2250, Minibatch Loss= 1.394265, Training Accuracy= 1.39426\n",
      "Iter 2400, Minibatch Loss= 1.477121, Training Accuracy= 1.47712\n",
      "Iter 2550, Minibatch Loss= 0.920012, Training Accuracy= 0.92001\n",
      "Iter 2700, Minibatch Loss= 1.374041, Training Accuracy= 1.37404\n",
      "Iter 2850, Minibatch Loss= 1.303897, Training Accuracy= 1.30390\n",
      "Iter 3000, Minibatch Loss= 0.746403, Training Accuracy= 0.74640\n",
      "Iter 3150, Minibatch Loss= 1.459250, Training Accuracy= 1.45925\n",
      "Iter 3300, Minibatch Loss= 1.269208, Training Accuracy= 1.26921\n",
      "Iter 3450, Minibatch Loss= 0.801137, Training Accuracy= 0.80114\n",
      "Iter 3600, Minibatch Loss= 1.121108, Training Accuracy= 1.12111\n",
      "Iter 3750, Minibatch Loss= 0.956159, Training Accuracy= 0.95616\n",
      "Iter 3900, Minibatch Loss= 1.025836, Training Accuracy= 1.02584\n",
      "Iter 4050, Minibatch Loss= 0.826112, Training Accuracy= 0.82611\n",
      "Iter 4200, Minibatch Loss= 1.012819, Training Accuracy= 1.01282\n",
      "Iter 4350, Minibatch Loss= 0.309465, Training Accuracy= 0.30947\n",
      "Optimization Finished!\n",
      "(1, 12, 100)\n",
      "(15, 12, 100)\n",
      "[ 72   9   2  73   3  74  75 149 149 149 149]\n",
      "[105 149 149 149 149 149]\n",
      "The question is:  ['why', 'did', 'lincoln', 'issue', 'the', 'emancipation', 'proclamation', '<PAD>', '<PAD>', '<PAD>', '<PAD>']\n",
      "The answer is:  ['no', '<PAD>', '<PAD>', '<PAD>', '<PAD>', '<PAD>']\n"
     ]
    }
   ],
   "source": [
    "# Launch the graph\n",
    "training_iters = 4500\n",
    "with tf.Session(graph=train_graph) as sess:\n",
    "    sess.run(tf.global_variables_initializer())\n",
    "    step = 1\n",
    "    # Keep training until reach max iterations\n",
    "    while step * batch_size < training_iters:\n",
    "\n",
    "        batch_x, batch_y = get_next_batch(batch_size)\n",
    "        x = convert_sent_to_vec(batch_x,True)\n",
    "        dec_inp = process_dec_input(batch_y, batch_size)\n",
    "        y = convert_sent_to_vec(dec_inp)\n",
    "\n",
    "        # Run optimization op (backprop)\n",
    "        sess.run([train_op ], feed_dict={encoder_input: x, decoder_input: y, target:batch_y, time_step:[n_steps]*batch_size, ans_length:[answer_steps]*batch_size})\n",
    "        if step % display_step == 0:\n",
    "\n",
    "            # Calculate batch loss\n",
    "            loss = sess.run(cost, feed_dict={encoder_input: x, decoder_input: y, target:batch_y, time_step:[n_steps]*batch_size, ans_length:[answer_steps]*batch_size})\n",
    "            print (\"Iter \" + str(step*batch_size) + \", Minibatch Loss= \" + \\\n",
    "                  \"{:.6f}\".format(loss) + \", Training Accuracy= \" + \\\n",
    "                  \"{:.5f}\".format(loss))\n",
    "        step += 1\n",
    "    print (\"Optimization Finished!\")\n",
    "    \n",
    "    batch_x, batch_y = get_next_batch(1)\n",
    "    x = convert_sent_to_vec(batch_x,True)\n",
    "    print (x.shape)\n",
    "    x_input = np.tile(x,(15,1,1))\n",
    "    print (x_input.shape)\n",
    "\n",
    "    an_logit = sess.run(inference_logits, feed_dict={encoder_input: x_input, time_step:[n_steps]*batch_size, ans_length:[answer_steps]*batch_size})\n",
    "\n",
    "    fina_ans = an_logit[0]\n",
    "    print (batch_x[0])\n",
    "    print (fina_ans)\n",
    "    \n",
    "    print ('The question is: ', [inverted_index[ind] for ind in batch_x[0].tolist()])\n",
    "    print ('The answer is: ', [inverted_index[ind] for ind in fina_ans.tolist()])\n",
    "\n",
    "    #test_len = 10\n",
    "    #a = 0\n",
    "    #for i in range(50):\n",
    "    #    test_data, test_label = get_next_batch(test_len)\n",
    "    #    x = convert_sent_to_vec(test_data,True)\n",
    "    #    y = convert_sent_to_vec(test_label)\n",
    "    #    a += sess.run(accuracy, feed_dict={encoder_input: x, decoder_input: y, target:batch_y, time_step:n_steps, ans_length:answer_steps})\n",
    "        \n",
    "    #print (\"Testing Accuracy:\", a/50)"
   ]
  }
 ],
 "metadata": {
  "kernelspec": {
   "display_name": "Python 3",
   "language": "python",
   "name": "python3"
  },
  "language_info": {
   "codemirror_mode": {
    "name": "ipython",
    "version": 3
   },
   "file_extension": ".py",
   "mimetype": "text/x-python",
   "name": "python",
   "nbconvert_exporter": "python",
   "pygments_lexer": "ipython3",
   "version": "3.5.3"
  }
 },
 "nbformat": 4,
 "nbformat_minor": 2
}
