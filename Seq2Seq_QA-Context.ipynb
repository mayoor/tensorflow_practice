{
 "cells": [
  {
   "cell_type": "markdown",
   "metadata": {},
   "source": [
    "# QA using Seq2Seq Model with Context"
   ]
  },
  {
   "cell_type": "markdown",
   "metadata": {},
   "source": [
    "###### Inspired from - Searching for one"
   ]
  },
  {
   "cell_type": "code",
   "execution_count": 1,
   "metadata": {
    "collapsed": true
   },
   "outputs": [],
   "source": [
    "import tensorflow as tf\n",
    "from gensim.models import Word2Vec\n",
    "import csv\n",
    "from tensorflow.contrib import rnn\n",
    "import pandas as pd\n",
    "import numpy as np\n",
    "from tensorflow.python.layers.core import Dense\n",
    "import prepare_babi as pb\n",
    "from functools import cmp_to_key\n",
    "import random\n"
   ]
  },
  {
   "cell_type": "code",
   "execution_count": 2,
   "metadata": {
    "collapsed": true
   },
   "outputs": [],
   "source": [
    "# Parameters\n",
    "learning_rate = 0.001\n",
    "training_iters = 200000\n",
    "batch_size = 15\n",
    "display_step = 10\n",
    "num_layers = 10\n",
    "\n",
    "# Network Parameters\n",
    "#n_steps = 12 # size of the sentences. Greater than will be clipped, less than will be padded by zero vector\n",
    "answer_steps = 1\n",
    "n_hidden = 128 # hidden layer num of features\n",
    "vocab_size=100\n",
    "\n",
    "# tf Graph input\n",
    "#x = tf.placeholder(\"float\", [None, None, n_input])\n",
    "#y = tf.placeholder(\"float\", [None, n_classes])\n",
    "with open('data/qa2_two-supporting-facts_train.txt') as inp:\n",
    "    data = pb.prepare_dataset(inp)\n",
    "\n",
    "with open('data/qa2_two-supporting-facts_train.txt') as test_inp:\n",
    "    test_data = pb.prepare_dataset(test_inp)\n"
   ]
  },
  {
   "cell_type": "code",
   "execution_count": 3,
   "metadata": {
    "collapsed": true
   },
   "outputs": [],
   "source": [
    "def get_cells():\n",
    "    stacked_cells = []\n",
    "    for i in range(num_layers):\n",
    "        stacked_cells.append(tf.contrib.rnn.DropoutWrapper(rnn.GRUCell(n_hidden)))\n",
    "    cell = rnn.MultiRNNCell(stacked_cells)\n",
    "    return cell"
   ]
  },
  {
   "cell_type": "code",
   "execution_count": 4,
   "metadata": {
    "collapsed": true
   },
   "outputs": [],
   "source": [
    "#input_file = '/Users/mayoor/dev/qa/data/sample_cleaned.csv'\n",
    "\n",
    "special_words = ['<UNK>','<EOS>','<GO>','<PAD>']\n",
    "\n",
    "#with open(input_file) as csv_file:\n",
    "#    data = pd.read_csv(csv_file,delimiter=',')\n",
    "#print(data.head())\n",
    "\n",
    "def get_all_vocab(data):\n",
    "    vocab = []\n",
    "    for st, q, ans in data:\n",
    "        vocab += [w for w in q.split(' ')]\n",
    "        vocab += [w for w in ans.split(' ')]\n",
    "        for s in st:\n",
    "            vocab += [w for w in s.split(' ')]\n",
    "    return vocab\n",
    "\n",
    "def get_all_lines_for_vectorization(data):\n",
    "    lines = []\n",
    "    for st, q, ans in data:\n",
    "        for l in st:\n",
    "            lines.append(l)\n",
    "        lines.append(q)\n",
    "        lines.append(ans)\n",
    "    return lines\n",
    "\n",
    "def get_tokenized_lines(data):\n",
    "    lines = get_all_lines_for_vectorization(data)\n",
    "    return [l.split(' ') for l in lines]\n",
    "\n",
    "\n",
    "def getStoryQuestionAnswerLines(data):\n",
    "    data_list = []\n",
    "    for st, q, ans in data:\n",
    "        words = \" \".join(st).split(\" \")\n",
    "        data_list.append((words, q.split(' '), ans.split(' ')))\n",
    "    return data_list\n",
    "\n",
    "    "
   ]
  },
  {
   "cell_type": "code",
   "execution_count": 5,
   "metadata": {},
   "outputs": [
    {
     "name": "stdout",
     "output_type": "stream",
     "text": [
      "Total vocab size is : 38\n",
      "Vector Size is 38\n"
     ]
    }
   ],
   "source": [
    "consol_list = get_all_vocab(data)\n",
    "#print (len(consol_list))\n",
    "\n",
    "#print (get_all_lines_for_vectorization(data))\n",
    "word_ind = {}\n",
    "for w in consol_list:\n",
    "    if w not in word_ind:\n",
    "        word_ind[w]=len(word_ind)\n",
    "\n",
    "for d in special_words:\n",
    "    word_ind[d]=len(word_ind)\n",
    "    \n",
    "print ('Total vocab size is : %s' % len(word_ind))\n",
    "n_input = len(word_ind) #WordVector \n",
    "\n",
    "inverted_index = {}\n",
    "for k in word_ind:\n",
    "    inverted_index[word_ind[k]]=k\n",
    "\n",
    "#y_data = [[1,0] if p == 'positive' else [0,1] for p in sentiment_list]\n",
    "vector = Word2Vec(get_tokenized_lines(data) + [[d] for d in special_words], size=100, iter=50, min_count=1)\n",
    "print ('Vector Size is %d' % len(vector.wv.vocab))\n",
    "padding_vector = np.zeros(100)\n"
   ]
  },
  {
   "cell_type": "code",
   "execution_count": 6,
   "metadata": {},
   "outputs": [
    {
     "data": {
      "text/plain": [
       "[('john', 0.9948188662528992),\n",
       " ('daniel', 0.9919648170471191),\n",
       " ('sandra', 0.982620358467102),\n",
       " ('<PAD>', 0.07228146493434906),\n",
       " ('<EOS>', 0.07159482687711716),\n",
       " ('', 0.03617631644010544),\n",
       " ('is', 0.03473497927188873),\n",
       " ('where', 0.024126915261149406),\n",
       " ('<UNK>', -0.01084035262465477),\n",
       " ('garden', -0.023263201117515564)]"
      ]
     },
     "execution_count": 6,
     "metadata": {},
     "output_type": "execute_result"
    }
   ],
   "source": [
    "vector.similar_by_word('mary')"
   ]
  },
  {
   "cell_type": "code",
   "execution_count": 7,
   "metadata": {},
   "outputs": [
    {
     "name": "stdout",
     "output_type": "stream",
     "text": [
      "[[ -1.14756741e-01  -1.27138031e+00   5.09362996e-01 ...,   3.83990496e-01\n",
      "   -1.84832013e+00   1.86611605e+00]\n",
      " [ -4.09306958e-02  -1.70652354e+00  -5.55993319e-01 ...,   6.04525357e-02\n",
      "   -8.37356389e-01   7.04301178e-01]\n",
      " [  3.57263237e-01   6.41192123e-02   6.06143296e-01 ...,  -3.21395040e-01\n",
      "   -5.36073893e-02  -7.98516691e-01]\n",
      " ..., \n",
      " [  4.88842791e-03  -4.15823795e-03   4.46959678e-03 ...,  -4.61358810e-03\n",
      "    4.32615215e-03   1.83976453e-03]\n",
      " [  2.07603094e-03   1.85016659e-03   2.89434125e-03 ...,   2.23601446e-03\n",
      "    2.63146474e-03  -3.05674947e-03]\n",
      " [ -3.39788618e-03  -4.63959156e-03   3.25530372e-03 ...,  -6.26060573e-05\n",
      "    3.01822321e-03   1.54330861e-03]]\n"
     ]
    }
   ],
   "source": [
    "#Construct Embedding matrix - numpy matrix\n",
    "vocab_size = len(vector.wv.vocab)\n",
    "embeddings = np.zeros((vocab_size,100), dtype=np.float32)\n",
    "for i in range(vocab_size):\n",
    "    embeddings[i] = vector[inverted_index[i]]\n",
    "\n",
    "print (embeddings)"
   ]
  },
  {
   "cell_type": "code",
   "execution_count": 8,
   "metadata": {
    "collapsed": true
   },
   "outputs": [],
   "source": [
    "#Convert sentences to numbers and pad\n",
    "def convert_tonum_pad(sentences, max_size):\n",
    "    converted_sents = []\n",
    "    for _s in sentences:\n",
    "        words = _s\n",
    "        _s_num = [word_ind[w] for w in words]\n",
    "        if len(_s_num)<max_size:\n",
    "            _s_num = _s_num + [word_ind['<PAD>']]*(max_size-len(_s_num))\n",
    "        if len(_s_num)>max_size:\n",
    "            _s_num = _s_num[0:max_size]\n",
    "        converted_sents.append(_s_num)\n",
    "    return converted_sents\n"
   ]
  },
  {
   "cell_type": "code",
   "execution_count": 9,
   "metadata": {
    "collapsed": true
   },
   "outputs": [],
   "source": [
    "#story, question, answer = getStoryQuestionAnswerLines(data)\n",
    "def getAllData(data):\n",
    "    train_tuple = getStoryQuestionAnswerLines(data)\n",
    "    sorted_data_list = sorted(train_tuple, key=cmp_to_key(lambda x,y: -1 if len(x[0]) < len(y[0]) else 0))\n",
    "    story = []\n",
    "    question = []\n",
    "    answer = []\n",
    "    for t in sorted_data_list:\n",
    "        story.append(t[0])\n",
    "        question.append(t[1])\n",
    "        answer.append(t[2])\n",
    "    return story, question, answer\n"
   ]
  },
  {
   "cell_type": "code",
   "execution_count": 10,
   "metadata": {
    "collapsed": true
   },
   "outputs": [],
   "source": [
    "#add EOS to the question to indicate it is end of sentence.\n",
    "def append_eos_to_question(sentences):\n",
    "    eos_sent = []\n",
    "    for sent in sentences:\n",
    "        sent.append[word_ind['<EOS>']]\n",
    "        eos_sent.append(sent)\n",
    "    return eos_sent"
   ]
  },
  {
   "cell_type": "code",
   "execution_count": 11,
   "metadata": {
    "collapsed": true
   },
   "outputs": [],
   "source": [
    "def encoder(enc_input, batch_size):\n",
    "    encoder_cells = get_cells()\n",
    "    initial_state = encoder_cells.zero_state(batch_size, tf.float32)\n",
    "    outputs, state = tf.nn.dynamic_rnn(encoder_cells, enc_input, initial_state=initial_state, swap_memory=True)\n",
    "    return outputs, state"
   ]
  },
  {
   "cell_type": "code",
   "execution_count": 12,
   "metadata": {
    "collapsed": true
   },
   "outputs": [],
   "source": [
    "def bidirectional_encoder(enc_input, batch_size):\n",
    "    encoder_cells_fw = get_cells()\n",
    "    encoder_cells_bw = get_cells()\n",
    "    initial_state_fw = encoder_cells.zero_state(batch_size, tf.float32)\n",
    "    initial_state_bw = encoder_cells_bw.zero_state(batch_size, tf.float32)\n",
    "    outputs, state = tf.nn.bidirectional_dynamic_rnn(encoder_cells_fw, encoder_cells_bw, enc_input, initial_state_fw=initial_state_fw, initial_state_bw=initial_state_bw, swap_memory=True)\n",
    "    outputs = tf.concat(outputs,2)\n",
    "    return outputs, state"
   ]
  },
  {
   "cell_type": "code",
   "execution_count": 13,
   "metadata": {
    "collapsed": true
   },
   "outputs": [],
   "source": [
    "def decoder_training(dec_input, decoder_cell, initial_state, fc_layer, ans_length):\n",
    "    \n",
    "    helper = tf.contrib.seq2seq.TrainingHelper(inputs=dec_input, sequence_length=ans_length, time_major=False)\n",
    "    #print (dec_input.get_shape())\n",
    "    #print (decoder_cell.get_shape())\n",
    "    #print (initial_state.get_shape())\n",
    "    #print (ans_length.get_shape())\n",
    "    decoder = tf.contrib.seq2seq.BasicDecoder(decoder_cell,helper,initial_state,fc_layer)\n",
    "    training_logits, training_state, training_seq_len = tf.contrib.seq2seq.dynamic_decode(decoder, output_time_major=False,\n",
    "                                                           impute_finished=True,\n",
    "                                                           maximum_iterations=answer_steps)\n",
    "    return training_logits"
   ]
  },
  {
   "cell_type": "code",
   "execution_count": 14,
   "metadata": {
    "collapsed": true
   },
   "outputs": [],
   "source": [
    "def decoder_testing(decoder_cell, initial_state, embedding, start_token, end_token, batch_size, fc_layer):\n",
    "\n",
    "    start_tokens = tf.tile(tf.constant([start_token], dtype=tf.int32), [batch_size], name='start_tokens')\n",
    "    helper = tf.contrib.seq2seq.GreedyEmbeddingHelper(embedding, start_tokens, end_token)\n",
    "    decoder = tf.contrib.seq2seq.BasicDecoder(decoder_cell,helper,initial_state, fc_layer)\n",
    "    testing_logits, testing_state, testing_seq_len = tf.contrib.seq2seq.dynamic_decode(decoder, output_time_major=False,\n",
    "                                                           impute_finished=True,\n",
    "                                                           maximum_iterations=answer_steps)\n",
    "    return testing_logits"
   ]
  },
  {
   "cell_type": "code",
   "execution_count": 15,
   "metadata": {
    "collapsed": true
   },
   "outputs": [],
   "source": [
    "def build_decode_layer(enc_output, enc_state, dec_input, embeddings, batch_size, time_step, ans_length):\n",
    "    decoder_cell = get_cells()\n",
    "\n",
    "    attention = tf.contrib.seq2seq.BahdanauAttention(n_hidden, tf.concat(enc_output,1), time_step, normalize=False, name='BahdanauAttention')\n",
    "    #print (enc_output[0].get_shape(), len(enc_output))\n",
    "    decoder_cell = tf.contrib.seq2seq.AttentionWrapper(cell=decoder_cell, attention_mechanism=attention, attention_layer_size=n_hidden)\n",
    "    \n",
    "    #initial_state = tf.contrib.seq2seq.AttentionWrapperState(enc_state[0],\n",
    "    #                                                         decoder_cell, 12, None, None)#.zero_state( batch_size, \n",
    "                                                                                             # tf.float32)\n",
    "    initial_state = decoder_cell.zero_state( batch_size, tf.float32)\n",
    "    \n",
    "    initial_state = initial_state.clone(cell_state=enc_state)\n",
    "\n",
    "    fully_connected_output_layer = Dense(len(word_ind),\n",
    "                         kernel_initializer = tf.truncated_normal_initializer(mean = 0.0, stddev=0.1))\n",
    "    \n",
    "    with tf.variable_scope(\"decode\"):\n",
    "        training_logits = decoder_training(dec_input, \n",
    "                                            decoder_cell, \n",
    "                                            initial_state, \n",
    "                                            fully_connected_output_layer, ans_length)\n",
    "                                                   \n",
    "    with tf.variable_scope(\"decode\", reuse=True):\n",
    "        inference_logits = decoder_testing(decoder_cell, initial_state, \n",
    "                                            embeddings, \n",
    "                                            word_ind['<GO>'], \n",
    "                                            word_ind['<EOS>'],\n",
    "                                            batch_size,\n",
    "                                            fully_connected_output_layer)\n",
    "    return training_logits, inference_logits\n",
    "    "
   ]
  },
  {
   "cell_type": "code",
   "execution_count": 16,
   "metadata": {
    "collapsed": true
   },
   "outputs": [],
   "source": [
    "def qa_model(enc_input, dec_input, batch_size, embeddings, time_step, ans_length):\n",
    "    encoder_output, encode_state = encoder(enc_input, batch_size)\n",
    "    training_logits, inference_logits = build_decode_layer(encoder_output, encode_state, dec_input, embeddings, batch_size, time_step, ans_length)\n",
    "    \n",
    "    return training_logits, inference_logits\n",
    "    "
   ]
  },
  {
   "cell_type": "code",
   "execution_count": 17,
   "metadata": {},
   "outputs": [
    {
     "name": "stdout",
     "output_type": "stream",
     "text": [
      "Graph is built.\n"
     ]
    }
   ],
   "source": [
    "train_graph = tf.Graph()\n",
    "\n",
    "with train_graph.as_default():\n",
    "    encoder_input = tf.placeholder(shape=(None,None,100),dtype=tf.float32, name=\"encode_input\")\n",
    "    decoder_input = tf.placeholder(shape=(None,answer_steps,100),dtype=tf.float32, name=\"decode_input\")\n",
    "    target = tf.placeholder(shape=(None,None),dtype=tf.int32, name=\"target\")\n",
    "    time_step = tf.placeholder(tf.int32, (None,), name='time_step')\n",
    "    ans_length = tf.placeholder(tf.int32, (None,), name='ans_length')\n",
    "    \n",
    "    #e_inp = tf.unstack(encoder_input, n_steps, axis=1)\n",
    "    #d_inp = tf.unstack(decoder_input, answer_steps, 1)\n",
    "\n",
    "    training_logits, inference_logits = qa_model(encoder_input, decoder_input, batch_size, embeddings, time_step, ans_length)#(x, weights, biases)\n",
    "\n",
    "    training_logits = tf.identity(training_logits.rnn_output, 'logits')\n",
    "    inference_logits = tf.identity(inference_logits.sample_id, name='predictions')\n",
    "    \n",
    "    # Create the weights for sequence_loss\n",
    "    masks = tf.sequence_mask(ans_length, answer_steps, dtype=tf.float32, name='masks')\n",
    "\n",
    "    with tf.name_scope(\"optimization\"):\n",
    "        # Loss function\n",
    "        cost = tf.contrib.seq2seq.sequence_loss(\n",
    "            training_logits,\n",
    "            target,\n",
    "            masks)\n",
    "\n",
    "        # Optimizer\n",
    "        optimizer = tf.train.AdamOptimizer(learning_rate)\n",
    "\n",
    "        # Gradient Clipping\n",
    "        gradients = optimizer.compute_gradients(cost)\n",
    "        capped_gradients = [(tf.clip_by_value(grad, -5., 5.), var) for grad, var in gradients if grad is not None]\n",
    "        train_op = optimizer.apply_gradients(capped_gradients)\n",
    "print(\"Graph is built.\")"
   ]
  },
  {
   "cell_type": "code",
   "execution_count": 18,
   "metadata": {
    "collapsed": true
   },
   "outputs": [],
   "source": [
    "def get_next_batch(batch_size, story, question, answer):\n",
    "    max_data = len(story)\n",
    "    #indexes = np.random.randint(max_data-batch_size, size=batch_size)\n",
    "    global index\n",
    "    if index+batch_size+1 > max_data:\n",
    "        index = max_data-batch_size-1\n",
    "    if index >= max_data-1:\n",
    "        index = 0\n",
    "    indexes = range(index, index+batch_size)\n",
    "    index += batch_size\n",
    "    \n",
    "    story_question_batch = [story[ix]+question[ix] for ix in list(indexes)]\n",
    "    answer_batch = [answer[iy] for iy in list(indexes)]\n",
    "    story_question_max_len = max([len(s) for s in story_question_batch])\n",
    "    answer_max_len = max([len(s) for s in answer_batch])\n",
    "    prepared_data_question = convert_tonum_pad(story_question_batch, story_question_max_len)\n",
    "    prepared_data_answer = convert_tonum_pad(answer_batch,answer_max_len)\n",
    "\n",
    "    return np.asarray(prepared_data_question), np.asarray(prepared_data_answer), story_question_max_len, answer_max_len, answer_batch\n"
   ]
  },
  {
   "cell_type": "code",
   "execution_count": 19,
   "metadata": {
    "collapsed": true
   },
   "outputs": [],
   "source": [
    "def convert_sent_to_vec(sentences, eos=False):\n",
    "    vec_sentences = []\n",
    "    for sent in sentences:\n",
    "        if eos == True:\n",
    "            st = list(sent)\n",
    "            st.append(word_ind['<EOS>'])\n",
    "        else:\n",
    "            st = sent\n",
    "        vec_sentences.append([embeddings[s] for s in st])\n",
    "    return np.asarray(vec_sentences)\n",
    "    "
   ]
  },
  {
   "cell_type": "code",
   "execution_count": 20,
   "metadata": {},
   "outputs": [
    {
     "name": "stdout",
     "output_type": "stream",
     "text": [
      "(10, 25, 100)\n",
      "(10, 1, 100)\n"
     ]
    }
   ],
   "source": [
    "index = 0\n",
    "story, question, answer = getAllData(data)\n",
    "\n",
    "test_x, test_y, xlen, ylen, test_y_actual = get_next_batch(10, story, question, answer)\n",
    "x = convert_sent_to_vec(test_x,True)\n",
    "y = convert_sent_to_vec(test_y)\n",
    "print (x.shape)\n",
    "print (y.shape)"
   ]
  },
  {
   "cell_type": "code",
   "execution_count": 21,
   "metadata": {
    "collapsed": true
   },
   "outputs": [],
   "source": [
    "def process_dec_input(target, batch_size):\n",
    "    begin_token = np.tile(np.array(word_ind['<GO>']),batch_size).reshape(batch_size,1)\n",
    "    z = np.delete(target,target.shape[1]-1,1)\n",
    "    return np.hstack((begin_token,z))\n",
    "    "
   ]
  },
  {
   "cell_type": "code",
   "execution_count": 24,
   "metadata": {},
   "outputs": [
    {
     "name": "stdout",
     "output_type": "stream",
     "text": [
      "INFO:tensorflow:Restoring parameters from model/seqqacontext/seqqacontext.ckpt\n",
      "No previously saved checkpoint found\n",
      "Iter 150, Minibatch Loss= 1.856541\n",
      "Iter 300, Minibatch Loss= 2.227746\n",
      "Iter 450, Minibatch Loss= 1.717780\n",
      "Iter 600, Minibatch Loss= 1.943280\n",
      "Iter 750, Minibatch Loss= 1.898941\n",
      "Iter 900, Minibatch Loss= 1.751568\n",
      "Iter 1050, Minibatch Loss= 1.505340\n",
      "Iter 1200, Minibatch Loss= 1.363502\n",
      "Iter 1350, Minibatch Loss= 1.347718\n",
      "Iter 1500, Minibatch Loss= 1.344355\n",
      "Iter 1650, Minibatch Loss= 1.340787\n",
      "Iter 1800, Minibatch Loss= 1.328789\n",
      "Iter 1950, Minibatch Loss= 1.340639\n",
      "Iter 2100, Minibatch Loss= 1.336262\n",
      "Iter 2250, Minibatch Loss= 1.327319\n",
      "Iter 2400, Minibatch Loss= 2.514742\n",
      "Iter 2550, Minibatch Loss= 5.276697\n",
      "Iter 2700, Minibatch Loss= 1.350912\n",
      "Iter 2850, Minibatch Loss= 1.343240\n",
      "Iter 3000, Minibatch Loss= 1.340944\n",
      "Iter 3150, Minibatch Loss= 1.340742\n",
      "Iter 3300, Minibatch Loss= 1.337883\n",
      "Iter 3450, Minibatch Loss= 1.284769\n",
      "Iter 3600, Minibatch Loss= 1.037672\n",
      "Iter 3750, Minibatch Loss= 0.929494\n",
      "Iter 3900, Minibatch Loss= 1.556532\n",
      "Iter 4050, Minibatch Loss= 0.712908\n",
      "Iter 4200, Minibatch Loss= 0.915827\n",
      "Iter 4350, Minibatch Loss= 0.718454\n",
      "Iter 4500, Minibatch Loss= 0.599011\n",
      "Iter 4650, Minibatch Loss= 0.511221\n",
      "Iter 4800, Minibatch Loss= 0.401566\n",
      "Iter 4950, Minibatch Loss= 0.315489\n",
      "Iter 5100, Minibatch Loss= 0.287761\n",
      "Iter 5250, Minibatch Loss= 0.282745\n",
      "Iter 5400, Minibatch Loss= 0.281570\n",
      "Iter 5550, Minibatch Loss= 0.280910\n",
      "Iter 5700, Minibatch Loss= 0.280575\n",
      "Iter 5850, Minibatch Loss= 0.280373\n",
      "Iter 6000, Minibatch Loss= 0.280227\n",
      "Iter 6150, Minibatch Loss= 0.280092\n",
      "Iter 6300, Minibatch Loss= 0.279925\n",
      "Iter 6450, Minibatch Loss= 0.279335\n",
      "Iter 6600, Minibatch Loss= 0.730279\n",
      "Iter 6750, Minibatch Loss= 0.372967\n",
      "Iter 6900, Minibatch Loss= 0.322955\n",
      "Iter 7050, Minibatch Loss= 0.299128\n",
      "Iter 7200, Minibatch Loss= 0.281777\n",
      "Iter 7350, Minibatch Loss= 0.279398\n",
      "Iter 7500, Minibatch Loss= 0.277206\n",
      "Iter 7650, Minibatch Loss= 0.272274\n",
      "Iter 7800, Minibatch Loss= 0.262088\n",
      "Iter 7950, Minibatch Loss= 0.246236\n",
      "Iter 8100, Minibatch Loss= 0.206340\n",
      "Iter 8250, Minibatch Loss= 0.159962\n",
      "Iter 8400, Minibatch Loss= 0.097977\n",
      "Iter 8550, Minibatch Loss= 0.019070\n",
      "Iter 8700, Minibatch Loss= 0.005524\n",
      "Iter 8850, Minibatch Loss= 0.003228\n",
      "Optimization Finished!\n"
     ]
    }
   ],
   "source": [
    "# Launch the graph\n",
    "training_iters = 9000\n",
    "story, question, answer = getAllData(data)\n",
    "test_story, test_question, test_answer = getAllData(test_data)\n",
    "checkpoint_file = 'model/seqqacontext/seqqacontext.ckpt'\n",
    "with tf.Session(graph=train_graph) as sess:\n",
    "    index = 0\n",
    "    sess.run(tf.global_variables_initializer())\n",
    "    step = 1\n",
    "    # Keep training until reach max iterations\n",
    "    saver = tf.train.Saver() \n",
    "    try:\n",
    "        saver.restore(sess,checkpoint_file)\n",
    "    except:\n",
    "        print ('No previously saved checkpoint found')\n",
    "    while step * batch_size < training_iters:\n",
    "\n",
    "        batch_x, batch_y, x_max_len, y_max_len, y_actual_train = get_next_batch(batch_size, story, question, answer)\n",
    "        n_steps = x_max_len +1\n",
    "        answer_steps = y_max_len\n",
    "        \n",
    "        x = convert_sent_to_vec(batch_x,True)\n",
    "        dec_inp = process_dec_input(batch_y, batch_size)\n",
    "        y = convert_sent_to_vec(dec_inp)\n",
    "        old_loss = 5\n",
    "\n",
    "        # Run optimization op (backprop)\n",
    "        sess.run([train_op ], feed_dict={encoder_input: x, decoder_input: y, target:batch_y, time_step:[n_steps]*batch_size, ans_length:[answer_steps]*batch_size})\n",
    "        if step % display_step == 0:\n",
    "\n",
    "            # Calculate batch loss\n",
    "            loss = sess.run(cost, feed_dict={encoder_input: x, decoder_input: y, target:batch_y, time_step:[n_steps]*batch_size, ans_length:[answer_steps]*batch_size})\n",
    "            print (\"Iter \" + str(step*batch_size) + \", Minibatch Loss= \" + \\\n",
    "                  \"{:.6f}\".format(loss) )\n",
    "            if loss < old_loss:\n",
    "                saver.save(sess, checkpoint_file)\n",
    "            old_loss = loss\n",
    "            \n",
    "        step += 1\n",
    "    print (\"Optimization Finished!\")\n",
    "    if loss < old_loss:\n",
    "        saver.save(sess, checkpoint_file)\n",
    "\n",
    "    "
   ]
  },
  {
   "cell_type": "code",
   "execution_count": 27,
   "metadata": {},
   "outputs": [
    {
     "name": "stdout",
     "output_type": "stream",
     "text": [
      "INFO:tensorflow:Restoring parameters from model/seqqacontext/seqqacontext.ckpt\n",
      "Training accuracy is 94.17777777777778\n",
      "12714 out of 13500 predicted correctly\n"
     ]
    }
   ],
   "source": [
    "index=0\n",
    "correct = 0\n",
    "total = 0\n",
    "testing_iter = 900\n",
    "checkpoint = \"model/seqqacontext/seqqacontext.ckpt\"\n",
    "\n",
    "graph = tf.Graph()\n",
    "with tf.Session(graph=graph) as sess:\n",
    "    # Load saved model\n",
    "    loader = tf.train.import_meta_graph(checkpoint + '.meta')\n",
    "    loader.restore(sess, checkpoint)\n",
    "    encoder_input = graph.get_tensor_by_name('encode_input:0')\n",
    "    inference_logits = graph.get_tensor_by_name('predictions:0')\n",
    "    time_step = graph.get_tensor_by_name('time_step:0')\n",
    "    ans_length = graph.get_tensor_by_name('ans_length:0')\n",
    "\n",
    "    for te in range(testing_iter):\n",
    "        batch_x, batch_y, x_max_len, y_max_len, y_actual = get_next_batch(batch_size, test_story, test_question, test_answer)\n",
    "        n_steps = x_max_len +1\n",
    "        answer_steps = y_max_len\n",
    "        x = convert_sent_to_vec(batch_x,True)\n",
    "        #print (x.shape)\n",
    "        #x_input = np.tile(x,(15,1,1))\n",
    "        #print (x_input.shape)\n",
    "\n",
    "        #an_logit = sess.run(inference_logits, feed_dict={encoder_input: x_input, time_step:[n_steps]*batch_size, ans_length:[answer_steps]*batch_size})\n",
    "        an_logit = sess.run(inference_logits, feed_dict={encoder_input: x, time_step:[n_steps]*batch_size, ans_length:[answer_steps]*batch_size})\n",
    "        total += len(an_logit)\n",
    "        for i in range(len(an_logit)):\n",
    "            fina_ans = an_logit[i]\n",
    "            predicted = \" \".join([inverted_index[ind] for ind in fina_ans.tolist()])\n",
    "            actual = \" \".join(y_actual[i])\n",
    "            #print ('The question is: ', \" \".join([inverted_index[ind] for ind in batch_x[i].tolist()]))\n",
    "            #print ('The answer is: ', predicted)\n",
    "            #print ('The right answer is: ', actual)\n",
    "            if predicted.strip() == actual.strip():\n",
    "                correct += 1\n",
    "    print ('Training accuracy is '+ str((correct/total)*100))\n",
    "    print ('{0} out of {1} predicted correctly'.format(correct, total))\n",
    "\n"
   ]
  }
 ],
 "metadata": {
  "kernelspec": {
   "display_name": "Python 3",
   "language": "python",
   "name": "python3"
  },
  "language_info": {
   "codemirror_mode": {
    "name": "ipython",
    "version": 3
   },
   "file_extension": ".py",
   "mimetype": "text/x-python",
   "name": "python",
   "nbconvert_exporter": "python",
   "pygments_lexer": "ipython3",
   "version": "3.5.3"
  }
 },
 "nbformat": 4,
 "nbformat_minor": 2
}
